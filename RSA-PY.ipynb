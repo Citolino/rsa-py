{
 "cells": [
  {
   "cell_type": "code",
   "execution_count": 1,
   "id": "1139cba2",
   "metadata": {
    "scrolled": true
   },
   "outputs": [],
   "source": [
    "import random\n",
    "import math \n",
    "\n",
    "first_primes_list = [2, 3, 5, 7, 11, 13, 17, 19, 23, 29,31, 37, 41, 43, 47, 53, 59, 61, 67,71, 73, 79, 83, 89, 97, 101, 103,107, 109, 113, 127, 131, 137, 139,149, 151, 157, 163, 167, 173, 179,181, 191, 193, 197, 199, 211, 223,227, 229, 233, 239, 241, 251, 257, 263, 269, 271, 277, 281, 283, 293,307, 311, 313, 317, 331, 337, 347, 349,353,359,367,373,379,383,389,397,401,409,419,421,431,433,439,443,449,457,461,463,467,479,487,491,499,503,509,521,523,541,547,557,563,569,571,577,587,593,599,601,607,613,617,619,631,641,643,647,653,659,661,673,677,683,691,701,709,719,727,733,739,743,751,757,761,769,773,787,797,809,811,821,823,827,829,839,853,857,859,863,877\n",
    "                    ,881,883,887,907,911,919,929,937,941,947,953,967,971,977,983,991,997,1009,1013,1019,1021,1031,1033,1039,1049,1051,1061,1063,1069,1087,1091,1093,1097,1103,1109,1117,1123,1129,1151,1153,1163,1171,1181,1187,1193,1201,1213,1217,1223,1229,1231,1237,1249,1259,1277,1279,1283,1289,1291,1297,1301,1303,1307,1319,1321,1327,1361,1367,1373,1381,1399,1409,1423,1427,1429,1433]\n"
   ]
  },
  {
   "cell_type": "code",
   "execution_count": 2,
   "id": "cb11634d",
   "metadata": {},
   "outputs": [],
   "source": [
    "def nBitRandom(n):\n",
    "    return random.randrange(2 ** (n - 1) + 1, 2 ** n - 1)"
   ]
  },
  {
   "cell_type": "code",
   "execution_count": 3,
   "id": "c687815d",
   "metadata": {},
   "outputs": [],
   "source": [
    "def pegarLevelBaixoPrimo(n):\n",
    "    while True:\n",
    "        pc = nBitRandom(n)\n",
    "        for divisor in first_primes_list:\n",
    "            if pc % divisor == 0 and divisor ** 2 <= pc:\n",
    "                break\n",
    "        else: return pc"
   ]
  },
  {
   "cell_type": "code",
   "execution_count": 4,
   "id": "b2b44c9d",
   "metadata": {},
   "outputs": [],
   "source": [
    "def testePrimoMillerRabin(mrc):\n",
    "    maxDivisionsByTwo = 0\n",
    "    ec = mrc - 1\n",
    "    while ec % 2 == 0:\n",
    "        ec >>= 1\n",
    "        maxDivisionsByTwo += 1\n",
    "    assert(2 ** maxDivisionsByTwo * ec == mrc - 1)\n",
    " \n",
    "    def trialComposite(round_tester):\n",
    "        if pow(round_tester, ec, mrc) == 1:\n",
    "            return False\n",
    "        for i in range(maxDivisionsByTwo):\n",
    "            if pow(round_tester, 2 ** i * ec, mrc) == mrc - 1:\n",
    "                return False\n",
    "        return True\n",
    "\n",
    "    numberOfRabinTrials = 20\n",
    "    for i in range(numberOfRabinTrials):\n",
    "        round_tester = random.randrange(2, mrc)\n",
    "        if trialComposite(round_tester):\n",
    "            return False\n",
    "    return True"
   ]
  },
  {
   "cell_type": "code",
   "execution_count": 5,
   "id": "cee44d99",
   "metadata": {},
   "outputs": [],
   "source": [
    "def egcd(a, b):\n",
    "    if a == 0:\n",
    "        return (b, 0, 1)\n",
    "    else:\n",
    "        g, y, x = egcd(b % a, a)\n",
    "        return (g, x - (b // a) * y, y)"
   ]
  },
  {
   "cell_type": "code",
   "execution_count": 6,
   "id": "a07065bb",
   "metadata": {},
   "outputs": [],
   "source": [
    "def modinv(a, m):\n",
    "    g, x, y = egcd(a, m)\n",
    "    if g != 1:\n",
    "        raise Exception('modular inverse does not exist')\n",
    "    else:\n",
    "        return x % m"
   ]
  },
  {
   "cell_type": "code",
   "execution_count": 7,
   "id": "639929d0",
   "metadata": {},
   "outputs": [],
   "source": [
    "while True:\n",
    "        n = 4096\n",
    "        cantidatoPrimo = pegarLevelBaixoPrimo(n)\n",
    "        if not testePrimoMillerRabin(cantidatoPrimo):\n",
    "            continue\n",
    "        else:\n",
    "            p = cantidatoPrimo\n",
    "            break\n",
    "\n",
    "while True:\n",
    "        n = 4096\n",
    "        cantidatoPrimo = pegarLevelBaixoPrimo(n)\n",
    "        if not testePrimoMillerRabin(cantidatoPrimo):\n",
    "            continue\n",
    "        else:\n",
    "            q = cantidatoPrimo\n",
    "            break"
   ]
  },
  {
   "cell_type": "code",
   "execution_count": 8,
   "id": "3844e697",
   "metadata": {},
   "outputs": [],
   "source": [
    "n = p * q\n",
    "m = (p - 1) * (q - 1)\n",
    "e = 3\n",
    "while math.gcd(m, e) > 1 :\n",
    "       e = e + 2\n",
    "d = modinv(e,m)"
   ]
  },
  {
   "cell_type": "code",
   "execution_count": 9,
   "id": "0cb6325c",
   "metadata": {},
   "outputs": [
    {
     "name": "stdout",
     "output_type": "stream",
     "text": [
      "\n",
      "\n",
      "Digite a msg para criptografar: The information security is of significant importance to ensure the privacy of communications\n"
     ]
    }
   ],
   "source": [
    "msg  = input('\\n\\nDigite a msg para criptografar: ' )"
   ]
  },
  {
   "cell_type": "code",
   "execution_count": 10,
   "id": "4308f4c3",
   "metadata": {},
   "outputs": [
    {
     "name": "stdout",
     "output_type": "stream",
     "text": [
      "\n",
      "\n",
      "Mensagem criptografada: 418211942412166529024105101005013355443212762815625161051000001104080803216850581551192541458241538623954985873402572100341657612762815625168505815511610510000033554432201135718751051010050195099004992192448035719254145824127628156252100341657625937424601335544321276281562520113571875335544321685058155111040808032335544322011357187512762815625115927407431610510000012762815625110408080321276281562595099004998587340257161051000002100341657633554432127628156251538623954917623416832168505815511925414582421003416576858734025716105100000950990049910510100501335544322100341657616850581551335544321051010050116105100000201135718752192448035719254145824105101005013355443221003416576121665290241051010050133554432176234168321925414582412762815625228775775688587340257950990049925937424601335544321685058155111040808032335544329509900499168505815511538623954915386239549219244803571610510000012762815625950990049985873402572100341657612762815625168505815511610510000020113571875\n"
     ]
    }
   ],
   "source": [
    "msg_encriptada = []\n",
    "for char in msg:\n",
    "    char_code = ord(char)\n",
    "    code_encriptada = pow(char_code, e, n)\n",
    "    msg_encriptada.append(code_encriptada)\n",
    "print('\\n\\nMensagem criptografada:',''.join('%s' % v for v in msg_encriptada))"
   ]
  },
  {
   "cell_type": "code",
   "execution_count": 11,
   "id": "6e897b03",
   "metadata": {},
   "outputs": [
    {
     "name": "stdout",
     "output_type": "stream",
     "text": [
      "\n",
      "\n",
      "Digite 1 para decriptografar 1\n",
      "\n",
      "\n",
      "Mensagem decriptografada: The information security is of significant importance to ensure the privacy of communications\n"
     ]
    }
   ],
   "source": [
    "valida  = input('\\n\\nDigite 1 para decriptografar ')\n",
    "\n",
    "\n",
    "if(valida=='1'):\n",
    "    ja_decriptado = {}\n",
    "    msg_decriptada = ''\n",
    "    for char in msg_encriptada:\n",
    "        if(ja_decriptado.get(char)== None):\n",
    "            char_decriptado = pow(char, d, n) \n",
    "            char_value = chr(char_decriptado)\n",
    "            ja_decriptado[char] = char_value\n",
    "        msg_decriptada += ja_decriptado[char]\n",
    "    print('\\n\\nMensagem decriptografada:',msg_decriptada);"
   ]
  }
 ],
 "metadata": {
  "kernelspec": {
   "display_name": "Python 3",
   "language": "python",
   "name": "python3"
  },
  "language_info": {
   "codemirror_mode": {
    "name": "ipython",
    "version": 3
   },
   "file_extension": ".py",
   "mimetype": "text/x-python",
   "name": "python",
   "nbconvert_exporter": "python",
   "pygments_lexer": "ipython3",
   "version": "3.8.8"
  }
 },
 "nbformat": 4,
 "nbformat_minor": 5
}
